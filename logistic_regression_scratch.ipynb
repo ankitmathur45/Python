{
  "nbformat": 4,
  "nbformat_minor": 0,
  "metadata": {
    "colab": {
      "provenance": [],
      "authorship_tag": "ABX9TyNmrVD7WuVrsFvXqxpQUYoQ",
      "include_colab_link": true
    },
    "kernelspec": {
      "name": "python3",
      "display_name": "Python 3"
    },
    "language_info": {
      "name": "python"
    }
  },
  "cells": [
    {
      "cell_type": "markdown",
      "metadata": {
        "id": "view-in-github",
        "colab_type": "text"
      },
      "source": [
        "<a href=\"https://colab.research.google.com/github/ankitmathur45/Python/blob/master/logistic_regression_scratch.ipynb\" target=\"_parent\"><img src=\"https://colab.research.google.com/assets/colab-badge.svg\" alt=\"Open In Colab\"/></a>"
      ]
    },
    {
      "cell_type": "code",
      "execution_count": null,
      "metadata": {
        "id": "2I-rbX-ySQYl"
      },
      "outputs": [],
      "source": []
    },
    {
      "cell_type": "markdown",
      "source": [
        "Logistic Regression from scratch"
      ],
      "metadata": {
        "id": "JMvdOw1fSRmh"
      }
    },
    {
      "cell_type": "code",
      "source": [
        "!pip3 install matplotlib\n"
      ],
      "metadata": {
        "colab": {
          "base_uri": "https://localhost:8080/"
        },
        "id": "zwhwNKjjSas6",
        "outputId": "20ad5706-b084-4163-febf-68572f5da907"
      },
      "execution_count": 1,
      "outputs": [
        {
          "output_type": "stream",
          "name": "stdout",
          "text": [
            "Looking in indexes: https://pypi.org/simple, https://us-python.pkg.dev/colab-wheels/public/simple/\n",
            "Requirement already satisfied: matplotlib in /usr/local/lib/python3.8/dist-packages (3.2.2)\n",
            "Requirement already satisfied: cycler>=0.10 in /usr/local/lib/python3.8/dist-packages (from matplotlib) (0.11.0)\n",
            "Requirement already satisfied: numpy>=1.11 in /usr/local/lib/python3.8/dist-packages (from matplotlib) (1.21.6)\n",
            "Requirement already satisfied: python-dateutil>=2.1 in /usr/local/lib/python3.8/dist-packages (from matplotlib) (2.8.2)\n",
            "Requirement already satisfied: kiwisolver>=1.0.1 in /usr/local/lib/python3.8/dist-packages (from matplotlib) (1.4.4)\n",
            "Requirement already satisfied: pyparsing!=2.0.4,!=2.1.2,!=2.1.6,>=2.0.1 in /usr/local/lib/python3.8/dist-packages (from matplotlib) (3.0.9)\n",
            "Requirement already satisfied: six>=1.5 in /usr/local/lib/python3.8/dist-packages (from python-dateutil>=2.1->matplotlib) (1.15.0)\n"
          ]
        }
      ]
    },
    {
      "cell_type": "code",
      "source": [
        "from random import random\n",
        "from copy import deepcopy\n",
        "from math import exp, log, sqrt\n",
        "from pathlib import Path\n",
        "from matplotlib import pyplot as plt\n",
        "from typing import List"
      ],
      "metadata": {
        "id": "gH7SjmndSiAl"
      },
      "execution_count": 2,
      "outputs": []
    },
    {
      "cell_type": "code",
      "source": [
        "!mkdir -p data"
      ],
      "metadata": {
        "id": "UYf7MD7VSsnJ"
      },
      "execution_count": 3,
      "outputs": []
    },
    {
      "cell_type": "code",
      "source": [
        "data_dir: Path = Path('data')"
      ],
      "metadata": {
        "id": "1_UrlP6YSwfX"
      },
      "execution_count": 4,
      "outputs": []
    },
    {
      "cell_type": "code",
      "source": [
        "!wget -nc -P data https://raw.githubusercontent.com/animesh-agarwal/Machine-Learning/5b2d8a71984016ae021094641a3815d6ea9ac527/LogisticRegression/data/marks.txt"
      ],
      "metadata": {
        "colab": {
          "base_uri": "https://localhost:8080/"
        },
        "id": "4xTsB2VxSz88",
        "outputId": "9fa45068-aed6-47be-c50c-bfbf976a8f6d"
      },
      "execution_count": 5,
      "outputs": [
        {
          "output_type": "stream",
          "name": "stdout",
          "text": [
            "--2023-01-01 17:05:26--  https://raw.githubusercontent.com/animesh-agarwal/Machine-Learning/5b2d8a71984016ae021094641a3815d6ea9ac527/LogisticRegression/data/marks.txt\n",
            "Resolving raw.githubusercontent.com (raw.githubusercontent.com)... 185.199.108.133, 185.199.109.133, 185.199.110.133, ...\n",
            "Connecting to raw.githubusercontent.com (raw.githubusercontent.com)|185.199.108.133|:443... connected.\n",
            "HTTP request sent, awaiting response... 200 OK\n",
            "Length: 3775 (3.7K) [text/plain]\n",
            "Saving to: ‘data/marks.txt’\n",
            "\n",
            "marks.txt           100%[===================>]   3.69K  --.-KB/s    in 0s      \n",
            "\n",
            "2023-01-01 17:05:26 (46.8 MB/s) - ‘data/marks.txt’ saved [3775/3775]\n",
            "\n"
          ]
        }
      ]
    },
    {
      "cell_type": "code",
      "source": [
        "!head -n 20 data/marks.txt"
      ],
      "metadata": {
        "colab": {
          "base_uri": "https://localhost:8080/"
        },
        "id": "HBVSPhdJS5mV",
        "outputId": "eb0476d0-5224-40e9-840e-e3b639e7e9c4"
      },
      "execution_count": 6,
      "outputs": [
        {
          "output_type": "stream",
          "name": "stdout",
          "text": [
            "34.62365962451697,78.0246928153624,0\n",
            "30.28671076822607,43.89499752400101,0\n",
            "35.84740876993872,72.90219802708364,0\n",
            "60.18259938620976,86.30855209546826,1\n",
            "79.0327360507101,75.3443764369103,1\n",
            "45.08327747668339,56.3163717815305,0\n",
            "61.10666453684766,96.51142588489624,1\n",
            "75.02474556738889,46.55401354116538,1\n",
            "76.09878670226257,87.42056971926803,1\n",
            "84.43281996120035,43.53339331072109,1\n",
            "95.86155507093572,38.22527805795094,0\n",
            "75.01365838958247,30.60326323428011,0\n",
            "82.30705337399482,76.48196330235604,1\n",
            "69.36458875970939,97.71869196188608,1\n",
            "39.53833914367223,76.03681085115882,0\n",
            "53.9710521485623,89.20735013750205,1\n",
            "69.07014406283025,52.74046973016765,1\n",
            "67.94685547711617,46.67857410673128,0\n",
            "70.66150955499435,92.92713789364831,1\n",
            "76.97878372747498,47.57596364975532,1\n"
          ]
        }
      ]
    },
    {
      "cell_type": "code",
      "source": [
        "marks_data_path: Path = data_dir/ 'marks.txt'"
      ],
      "metadata": {
        "id": "zrNL8dQLTDTW"
      },
      "execution_count": 7,
      "outputs": []
    },
    {
      "cell_type": "code",
      "source": [
        "# Turn data into a list of x vectors and a vector with all y \n",
        "xs : List[List[float]] = []\n",
        "ys : List[float] = []\n",
        "\n",
        "with open(marks_data_path) as file:\n",
        "  for line in file:\n",
        "    data_point : List[str] = line.strip().split(',')\n",
        "    x1 : float = float(data_point[0])\n",
        "    x2 : float = float(data_point[1])\n",
        "    y : int = int(data_point[2])\n",
        "    xs.append([x1, x2])\n",
        "    ys.append(y)"
      ],
      "metadata": {
        "id": "OxAdmZtrTJes"
      },
      "execution_count": 8,
      "outputs": []
    },
    {
      "cell_type": "code",
      "source": [
        "#Create a scatter plot, color is determined by y\n",
        "x1s : List[float] = [x[0] for x in xs]\n",
        "x2s : List[float] = [x[1] for x in xs]\n",
        "\n",
        "plt.scatter(x1s, x2s, c=ys)\n",
        "plt.axis([min(x1s), max(x1s), min(x2s), max(x2s)])"
      ],
      "metadata": {
        "colab": {
          "base_uri": "https://localhost:8080/",
          "height": 282
        },
        "id": "6OSowqiJT50k",
        "outputId": "727f15de-2fab-4f0a-b1ce-813b5759d250"
      },
      "execution_count": 9,
      "outputs": [
        {
          "output_type": "execute_result",
          "data": {
            "text/plain": [
              "(30.05882244669796, 99.82785779692128, 30.60326323428011, 98.86943574220611)"
            ]
          },
          "metadata": {},
          "execution_count": 9
        },
        {
          "output_type": "display_data",
          "data": {
            "text/plain": [
              "<Figure size 432x288 with 1 Axes>"
            ],
            "image/png": "[encoded data removed]"
          },
          "metadata": {
            "needs_background": "light"
          }
        }
      ]
    },
    {
      "cell_type": "code",
      "source": [
        "for x in xs:\n",
        "  x.insert(0,1)\n",
        "\n",
        "xs[:5]"
      ],
      "metadata": {
        "colab": {
          "base_uri": "https://localhost:8080/"
        },
        "id": "CuYdFJ64UXaf",
        "outputId": "7e1c05c4-a743-467c-b0e8-ea89c472d81c"
      },
      "execution_count": 10,
      "outputs": [
        {
          "output_type": "execute_result",
          "data": {
            "text/plain": [
              "[[1, 34.62365962451697, 78.0246928153624],\n",
              " [1, 30.28671076822607, 43.89499752400101],\n",
              " [1, 35.84740876993872, 72.90219802708364],\n",
              " [1, 60.18259938620976, 86.30855209546826],\n",
              " [1, 79.0327360507101, 75.3443764369103]]"
            ]
          },
          "metadata": {},
          "execution_count": 10
        }
      ]
    },
    {
      "cell_type": "code",
      "source": [
        "#Rescale the data, mean = 0, std dev = 1\n",
        "\n",
        "def z_score(data: List[List[float]]) -> List[List[float]]:\n",
        "  def mean(data: List[float]) -> float:\n",
        "    return sum(data)/ len(data)\n",
        "\n",
        "  def standard_deviation(data: List[float]) -> float:\n",
        "    num_items: int = len(data)\n",
        "    mu : float = mean(data)\n",
        "    return sqrt(1/(num_items - 1) * sum([(item - mu) ** 2 for item in data]))\n",
        "\n",
        "  data_copy: List[List[float]] = deepcopy(data)\n",
        "  data_transposed = list(zip(*data_copy))\n",
        "  mus: List[float] = []\n",
        "  stds: List[float] = []\n",
        "\n",
        "  for item in data_transposed:\n",
        "    mus.append(mean(list(item)))\n",
        "    stds.append(standard_deviation(list(item)))\n",
        "\n",
        "  for item in data_copy:\n",
        "    mu: float = mean(item)\n",
        "    std: float = standard_deviation(item)\n",
        "    for i, elem in enumerate(item):\n",
        "      if stds[i] > 0.0:\n",
        "        item[i] = (elem - mus[i]) / stds[i]\n",
        "\n",
        "  return data_copy\n",
        "  "
      ],
      "metadata": {
        "id": "CaUA7FaMUhRI"
      },
      "execution_count": 11,
      "outputs": []
    },
    {
      "cell_type": "code",
      "source": [
        "xs = z_score(xs)\n",
        "xs[:5]"
      ],
      "metadata": {
        "colab": {
          "base_uri": "https://localhost:8080/"
        },
        "id": "DgDa_mACV9Q6",
        "outputId": "8180d984-eef6-428c-ec75-d170cc512fb2"
      },
      "execution_count": 12,
      "outputs": [
        {
          "output_type": "execute_result",
          "data": {
            "text/plain": [
              "[[1, -1.5942162646576388, 0.6351413941754435],\n",
              " [1, -1.8171014180340745, -1.2014885239142388],\n",
              " [1, -1.531325157335502, 0.3594832875590465],\n",
              " [1, -0.28068723821760927, 1.0809228071415948],\n",
              " [1, 0.6880619310375534, 0.4909048515228952]]"
            ]
          },
          "metadata": {},
          "execution_count": 12
        }
      ]
    },
    {
      "cell_type": "code",
      "source": [
        "#Sigmoid function\n",
        "\n",
        "def sigmoid(x: float) -> float:\n",
        "  return 1 / (1 + exp(-x))\n",
        "\n",
        "assert sigmoid(0) == 0.5"
      ],
      "metadata": {
        "id": "A9i3PFexWB7E"
      },
      "execution_count": 13,
      "outputs": []
    },
    {
      "cell_type": "code",
      "source": [
        "xs_sigmoid: List[float] = [x for x in range(-10, 10)]\n",
        "ys_sigmoid: List[float] = [sigmoid(x) for x in xs_sigmoid]\n",
        "\n",
        "plt.plot(xs_sigmoid, ys_sigmoid)"
      ],
      "metadata": {
        "colab": {
          "base_uri": "https://localhost:8080/",
          "height": 282
        },
        "id": "oxTR0DRbWRW_",
        "outputId": "21c2075b-c1b2-4a18-a604-560fbbcfe731"
      },
      "execution_count": 14,
      "outputs": [
        {
          "output_type": "execute_result",
          "data": {
            "text/plain": [
              "[<matplotlib.lines.Line2D at 0x7f29f85e04c0>]"
            ]
          },
          "metadata": {},
          "execution_count": 14
        },
        {
          "output_type": "display_data",
          "data": {
            "text/plain": [
              "<Figure size 432x288 with 1 Axes>"
            ],
            "image/png": "[encoded data removed]"
          },
          "metadata": {
            "needs_background": "light"
          }
        }
      ]
    },
    {
      "cell_type": "code",
      "source": [
        "#calculating dot product\n",
        "def dot(a: List[float], b: List[float]) -> float:\n",
        "  assert len(a) == len(b)\n",
        "  return sum([a_i * b_i for a_i, b_i in zip(a,b)])\n",
        "\n",
        "assert dot([1,2,3,4], [5,6,7,8]) == 70"
      ],
      "metadata": {
        "id": "GTp4Km1CWjes"
      },
      "execution_count": 17,
      "outputs": []
    },
    {
      "cell_type": "code",
      "source": [
        "def squish(beta: List[float], x: List[float]) -> float:\n",
        "  assert len(beta) == len(x)\n",
        "  dot_result : float = dot(beta,x)\n",
        "  return sigmoid(dot_result)\n",
        "\n",
        "assert squish([1,2,3,4], [5,6,7,8]) == 1.0"
      ],
      "metadata": {
        "id": "A4bkXX7ZW_O-"
      },
      "execution_count": 18,
      "outputs": []
    },
    {
      "cell_type": "code",
      "source": [
        "#Negative log likelihood\n",
        "def neg_log_likelihood(y: float, y_pred: float) -> float:\n",
        "  return -((y * log(y_pred)) + ((1-y) * log(1- y_pred)))\n",
        "\n",
        "assert 2.30 < neg_log_likelihood(1,0.1) < 2.31"
      ],
      "metadata": {
        "id": "YFMygcYbXau4"
      },
      "execution_count": 19,
      "outputs": []
    },
    {
      "cell_type": "code",
      "source": [
        "xs_nll: List[float] = [x / 10000 for x in range(1, 10000)]\n",
        "\n",
        "fig, (ax1, ax2) = plt.subplots(1,2)\n",
        "ax1.plot(xs_nll, [neg_log_likelihood(1,x) for x in xs_nll])\n",
        "ax1.set_title('y=1')\n",
        "ax2.plot(xs_nll, [neg_log_likelihood(0,x) for x in xs_nll])\n",
        "ax2.set_title('y=0')"
      ],
      "metadata": {
        "colab": {
          "base_uri": "https://localhost:8080/",
          "height": 298
        },
        "id": "QrM9RyR-X40c",
        "outputId": "c9a37bc3-8dde-4811-bbd0-7f8cf3010a1b"
      },
      "execution_count": 20,
      "outputs": [
        {
          "output_type": "execute_result",
          "data": {
            "text/plain": [
              "Text(0.5, 1.0, 'y=0')"
            ]
          },
          "metadata": {},
          "execution_count": 20
        },
        {
          "output_type": "display_data",
          "data": {
            "text/plain": [
              "<Figure size 432x288 with 2 Axes>"
            ],
            "image/png": "[encoded data removed]"
          },
          "metadata": {
            "needs_background": "light"
          }
        }
      ]
    },
    {
      "cell_type": "code",
      "source": [
        "def error (ys: List[float], ys_pred: List[float]) -> float:\n",
        "  assert len(ys) == len(ys_pred)\n",
        "  num_items: int = len(ys)\n",
        "  sum_nll: float = sum([neg_log_likelihood(y,y_pred) for y, y_pred in zip(ys, ys_pred)])\n",
        "  return (1/num_items) * sum_nll"
      ],
      "metadata": {
        "id": "pTiOAZGpYYOE"
      },
      "execution_count": 23,
      "outputs": []
    },
    {
      "cell_type": "code",
      "source": [
        "beta: List[float] = [random() / 10 for _ in range(3)]\n",
        "print (f'Starting with beta: {beta}')\n",
        "\n",
        "epochs: int = 5000\n",
        "learning_rate: float = 0.01\n",
        "\n",
        "for epoch in range(epochs):\n",
        "  ys_pred : List[float] = [squish(beta, x) for x in xs]\n",
        "\n",
        "  if epoch % 1000 == True:\n",
        "    loss: float = error(ys, ys_pred)\n",
        "    print(f'Epoch {epoch} --> loss: {loss}')\n",
        "\n",
        "  grad: List[float] = [0 for _ in range(len(beta))]\n",
        "  for x, y in zip(xs, ys):\n",
        "    err: float = squish(beta, x) - y\n",
        "    for i, x_i in enumerate(x):\n",
        "      grad[i] += (err * x_i)\n",
        "  grad = [1/ len(x) * g_i for g_i in grad]\n",
        "\n",
        "  beta = [b + (gb * - learning_rate) for b, gb in zip(beta, grad)]\n",
        "\n",
        "print (f'Best estimate for beta : {beta}')\n"
      ],
      "metadata": {
        "colab": {
          "base_uri": "https://localhost:8080/"
        },
        "id": "5tL0RL-GYycV",
        "outputId": "067a8023-080a-419b-84dc-e6924efdaa1d"
      },
      "execution_count": 24,
      "outputs": [
        {
          "output_type": "stream",
          "name": "stdout",
          "text": [
            "Starting with beta: [0.029995411557479888, 0.08173173254646472, 0.05607499043009081]\n",
            "Epoch 1 --> loss: 0.6123295311738874\n",
            "Epoch 1001 --> loss: 0.20374339896495475\n",
            "Epoch 2001 --> loss: 0.20350231079877898\n",
            "Epoch 3001 --> loss: 0.20349779977056262\n",
            "Epoch 4001 --> loss: 0.20349770371750564\n",
            "Best estimate for beta : [1.7184091225650198, 4.012815824467315, 3.7438191536967658]\n"
          ]
        }
      ]
    },
    {
      "cell_type": "code",
      "source": [
        "# compute statistics\n",
        "\n",
        "total: int = len(ys)\n",
        "thresh: float = 0.5\n",
        "tp: int = 0\n",
        "tn: int = 0\n",
        "fp: int = 0\n",
        "fn: int = 0\n",
        "\n",
        "for i, x in enumerate(xs):\n",
        "  y: int = ys[i]\n",
        "  pred: float = squish(beta, x)\n",
        "  y_pred: int = 1\n",
        "  if pred< thresh:\n",
        "    y_pred = 0\n",
        "\n",
        "  if y == 1 and y_pred == 1:\n",
        "    tp += 1\n",
        "  elif y == 0 and y_pred == 0:\n",
        "    tn += 1\n",
        "  elif y== 1 and y_pred == 0:\n",
        "    fn += 1\n",
        "  elif y == 0 and y_pred == 1:\n",
        "    fp += 1\n",
        "\n",
        "print (f'TP: {tp}')\n",
        "print (f'TN: {tn}')\n",
        "print (f'FP: {fp}')\n",
        "print (f'FN: {fn}')\n",
        "print (f'Accuracy : {(tp + tn )/ total}')\n",
        "print (f'Error rate: {(fp + fn)/ total}')"
      ],
      "metadata": {
        "colab": {
          "base_uri": "https://localhost:8080/"
        },
        "id": "IRGOscWMaEBP",
        "outputId": "732a25e9-6289-4cf8-d759-41761f8d7ec2"
      },
      "execution_count": 25,
      "outputs": [
        {
          "output_type": "stream",
          "name": "stdout",
          "text": [
            "TP: 55\n",
            "TN: 34\n",
            "FP: 6\n",
            "FN: 5\n",
            "Accuracy : 0.89\n",
            "Error rate: 0.11\n"
          ]
        }
      ]
    },
    {
      "cell_type": "code",
      "source": [
        "x1s: List[float] = [x[1] for x in xs]\n",
        "x2s: List[float] = [x[2] for x in xs]\n",
        "plt.scatter(x1s, x2s, c=ys)\n",
        "plt.axis([min(x1s), max(x1s), min(x2s), max(x2s)])\n",
        "\n",
        "m: float = -(beta[1]/ beta[2])\n",
        "b: float = -(beta[0]/ beta[2])\n",
        "\n",
        "x2s: List[float] = [m * x[1] + b for x in xs]\n",
        "plt.plot(x1s, x2s, '--')"
      ],
      "metadata": {
        "colab": {
          "base_uri": "https://localhost:8080/",
          "height": 282
        },
        "id": "BGAjd1JBbYM5",
        "outputId": "24089867-68eb-4388-ddc3-717251191142"
      },
      "execution_count": 27,
      "outputs": [
        {
          "output_type": "execute_result",
          "data": {
            "text/plain": [
              "[<matplotlib.lines.Line2D at 0x7f29f8b51520>]"
            ]
          },
          "metadata": {},
          "execution_count": 27
        },
        {
          "output_type": "display_data",
          "data": {
            "text/plain": [
              "<Figure size 432x288 with 1 Axes>"
            ],
            "image/png": "[encoded data removed]"
          },
          "metadata": {
            "needs_background": "light"
          }
        }
      ]
    },
    {
      "cell_type": "code",
      "source": [],
      "metadata": {
        "id": "lRpScddWcEVM"
      },
      "execution_count": null,
      "outputs": []
    }
  ]
}